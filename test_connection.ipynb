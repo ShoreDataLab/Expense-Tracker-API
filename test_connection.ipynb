{
 "cells": [
  {
   "cell_type": "code",
   "execution_count": 1,
   "metadata": {},
   "outputs": [
    {
     "name": "stdout",
     "output_type": "stream",
     "text": [
      "Attempting to connect with:\n",
      "Host: localhost\n",
      "User: db_user\n",
      "Database: EXPENSE_TRACKER\n",
      "Port: 3306\n",
      "Successfully connected to database!\n",
      "Database version: ('8.4.3',)\n"
     ]
    }
   ],
   "source": [
    "# test_db_connection.py\n",
    "import pymysql\n",
    "import os\n",
    "from dotenv import load_dotenv\n",
    "\n",
    "load_dotenv()\n",
    "\n",
    "def test_connection():\n",
    "    try:\n",
    "        # Print connection details for debugging\n",
    "        print(f\"Attempting to connect with:\")\n",
    "        print(f\"Host: {os.getenv('DB_HOST', 'localhost')}\")\n",
    "        print(f\"User: {os.getenv('DB_USER', 'db_user')}\")  # Changed from root to db_user\n",
    "        print(f\"Database: {os.getenv('DB_NAME', 'EXPENSE_TRACKER')}\")\n",
    "        print(f\"Port: {os.getenv('DB_PORT', '3306')}\")\n",
    "        \n",
    "        connection = pymysql.connect(\n",
    "            host=os.getenv(\"DB_HOST\", \"localhost\"),\n",
    "            user=\"db_user\",  # Explicitly use db_user instead of root\n",
    "            password=\"password\",\n",
    "            database=\"EXPENSE_TRACKER\",\n",
    "            port=int(os.getenv(\"DB_PORT\", \"3306\")),\n",
    "            connect_timeout=30,\n",
    "        )\n",
    "        print(\"Successfully connected to database!\")\n",
    "        \n",
    "        with connection.cursor() as cursor:\n",
    "            cursor.execute(\"SELECT VERSION()\")\n",
    "            version = cursor.fetchone()\n",
    "            print(f\"Database version: {version}\")\n",
    "            \n",
    "        connection.close()\n",
    "    except Exception as e:\n",
    "        print(f\"Error connecting to database: {str(e)}\")\n",
    "        raise\n",
    "\n",
    "if __name__ == \"__main__\":\n",
    "    test_connection()"
   ]
  }
 ],
 "metadata": {
  "kernelspec": {
   "display_name": "web_dev",
   "language": "python",
   "name": "python3"
  },
  "language_info": {
   "codemirror_mode": {
    "name": "ipython",
    "version": 3
   },
   "file_extension": ".py",
   "mimetype": "text/x-python",
   "name": "python",
   "nbconvert_exporter": "python",
   "pygments_lexer": "ipython3",
   "version": "3.10.15"
  }
 },
 "nbformat": 4,
 "nbformat_minor": 2
}

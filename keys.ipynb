{
 "cells": [
  {
   "cell_type": "code",
   "execution_count": 1,
   "metadata": {},
   "outputs": [
    {
     "name": "stdout",
     "output_type": "stream",
     "text": [
      "JWT_SECRET_KEY: sBnfuOoGncjpvZWtilIuUmMn9dJpW4nZJbm0Lra9_JQ\n",
      "JWT_REFRESH_SECRET_KEY: YkXCbBK3KWpvLX3AOpHse9KLPOOCwWWW9ATSTgYwwwg\n"
     ]
    }
   ],
   "source": [
    "import secrets\n",
    "\n",
    "# Generate two different secure random keys\n",
    "jwt_secret = secrets.token_urlsafe(32)\n",
    "jwt_refresh_secret = secrets.token_urlsafe(32)\n",
    "\n",
    "print(f\"JWT_SECRET_KEY: {jwt_secret}\")\n",
    "print(f\"JWT_REFRESH_SECRET_KEY: {jwt_refresh_secret}\")"
   ]
  }
 ],
 "metadata": {
  "kernelspec": {
   "display_name": "web_dev",
   "language": "python",
   "name": "python3"
  },
  "language_info": {
   "codemirror_mode": {
    "name": "ipython",
    "version": 3
   },
   "file_extension": ".py",
   "mimetype": "text/x-python",
   "name": "python",
   "nbconvert_exporter": "python",
   "pygments_lexer": "ipython3",
   "version": "3.10.15"
  }
 },
 "nbformat": 4,
 "nbformat_minor": 2
}
